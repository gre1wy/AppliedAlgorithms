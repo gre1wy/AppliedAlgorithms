{
 "cells": [
  {
   "cell_type": "code",
   "execution_count": null,
   "metadata": {},
   "outputs": [],
   "source": []
  },
  {
   "cell_type": "code",
   "execution_count": null,
   "metadata": {},
   "outputs": [],
   "source": []
  },
  {
   "cell_type": "code",
   "execution_count": 48,
   "metadata": {},
   "outputs": [],
   "source": [
    "class baseGraph:\n",
    "    def __init__(self, n):\n",
    "        \"\"\" Ініціалізує порожній граф.\n",
    "        \n",
    "        n - кількість вершин\n",
    "        \"\"\"\n",
    "        self.num_vertices = n\n",
    "        self.graph = {i+1: [] for i in range(n)}  # Порожній граф у вигляді списку суміжності {1: [], 2: [] ... }\n",
    "\n",
    "    def add_vertex(self):\n",
    "        \"\"\" Додає нову вершину до графа. \"\"\"\n",
    "        self.num_vertices += 1  # Збільшуємо кількість вершин\n",
    "        self.graph[self.num_vertices] = []  # Додаємо нову вершину з порожнім списком сусідів\n",
    "    \n",
    "    def del_vertex(self, v):\n",
    "        \"\"\" Видаляє вершину v і всі пов'язані з нею ребра. \"\"\"\n",
    "        if v in self.graph:\n",
    "            # Видаляємо всі ребра, пов'язані з вершиною v\n",
    "            for neighbor in self.graph[v]:\n",
    "                self.graph[neighbor].remove(v)  # Видаляємо v з сусідів кожної вершини\n",
    "            # Видаляємо саму вершину\n",
    "            del self.graph[v]\n",
    "            self.num_vertices -= 1  # Зменшуємо кількість вершин\n",
    "        else:\n",
    "            print(f\"Вершина {v} не існує.\")\n",
    "\n",
    "    def show(self):\n",
    "        \"\"\" Виводить граф у вигляді списку суміжності. \"\"\"\n",
    "        for vertex in self.graph:\n",
    "            print(f\"{vertex}: {self.graph[vertex]}\")\n",
    "\n",
    "    def to_adjacency_matrix(self):\n",
    "        \"\"\" Перетворює граф зі списку суміжності у матрицю суміжності. \"\"\"\n",
    "        # Ініціалізуємо матрицю розміром num_vertices x num_vertices з нулями\n",
    "        matrix = [[0] * self.num_vertices for _ in range(self.num_vertices)]\n",
    "        \n",
    "        for vertex, neighbors in self.graph.items():\n",
    "            for neighbor in neighbors:\n",
    "                if isinstance(neighbor, tuple):\n",
    "                    # Якщо граф зважений, присвоюємо вагу ребра\n",
    "                    matrix[vertex-1][neighbor[0]-1] = neighbor[1]\n",
    "                else:\n",
    "                    # Якщо граф незважений, просто ставимо 1\n",
    "                    matrix[vertex-1][neighbor-1] = 1\n",
    "        return matrix\n",
    "\n",
    "    def to_adjacency_list(self, matrix, weighted=False):\n",
    "        \"\"\" Перетворює граф з матриці суміжності у список суміжності.\n",
    "        \n",
    "        matrix - матриця суміжності\n",
    "        weighted - булевий параметр, який вказує, чи граф є зваженим\n",
    "        \"\"\"\n",
    "        self.num_vertices = len(matrix)\n",
    "        self.graph = {i+1: [] for i in range(self.num_vertices)}  # Очищаємо граф і створюємо новий список суміжності\n",
    "\n",
    "        for i in range(self.num_vertices):\n",
    "            for j in range(self.num_vertices):\n",
    "                if matrix[i][j] != 0:  # Якщо є ребро\n",
    "                    if weighted:\n",
    "                        # Якщо граф зважений, додаємо кортеж (вершина, вага)\n",
    "                        self.graph[i+1].append((j+1, matrix[i][j]))\n",
    "                    else:\n",
    "                        # Якщо граф незважений, додаємо тільки вершину\n",
    "                        self.graph[i+1].append(j+1)\n",
    "\n",
    "\n"
   ]
  },
  {
   "cell_type": "code",
   "execution_count": 49,
   "metadata": {},
   "outputs": [],
   "source": [
    "class Graph(baseGraph):\n",
    "    def add_edge(self, u, v):\n",
    "        \"\"\" Додає ребро (u <--> v) \"\"\"\n",
    "        # перевірка чи існують вершини\n",
    "        if u in self.graph and v in self.graph:\n",
    "            if v not in self.graph[u]:\n",
    "                self.graph[u].append(v)\n",
    "                self.graph[v].append(u)\n",
    "            else:\n",
    "                print(f\"Ребро між {u} і {v} вже існує.\")\n",
    "        else:\n",
    "            print(f\"Одна з вершин {u} або {v} не існує.\")\n",
    "    \n",
    "    def del_edge(self, u, v):\n",
    "        \"\"\" Видаляє ребро (u <--> v) \"\"\"\n",
    "        # перевірка чи існують вершини\n",
    "        if u in self.graph and v in self.graph:\n",
    "            # Перевірка, чи вже існує ребро\n",
    "            if v in self.graph[u]:\n",
    "                self.graph[u].remove(v)\n",
    "                self.graph[v].remove(u)\n",
    "            else:\n",
    "                print(f\"Ребра між {u} і {v} не існує.\")\n",
    "        else:\n",
    "            print(f\"Одна з вершин {u} або {v} не існує.\")\n",
    "\n",
    "\n"
   ]
  },
  {
   "cell_type": "code",
   "execution_count": 50,
   "metadata": {},
   "outputs": [],
   "source": [
    "class weightedGraph(baseGraph):\n",
    "    def add_edge(self, u, v, w):\n",
    "        \"\"\" Додає зважене ребро (u <--w--> v). \"\"\"\n",
    "        if u in self.graph and v in self.graph:\n",
    "            # Перевірка, чи вже існує ребро\n",
    "            if not any(x[0] == v for x in self.graph[u]):\n",
    "                self.graph[u].append((v, w))\n",
    "                self.graph[v].append((u, w))\n",
    "            else:\n",
    "                print(f\"Ребро між {u} і {v} вже існує.\")\n",
    "        else:\n",
    "            print(f\"Одна з вершин {u} або {v} не існує.\")\n",
    "    \n",
    "    def del_edge(self, u, v):\n",
    "        \"\"\" Видаляє зважене ребро (u <--w--> v). \"\"\"\n",
    "        if u in self.graph and v in self.graph:\n",
    "            # Перевірка, чи існує ребро перед видаленням\n",
    "            if any(x[0] == v for x in self.graph[u]):\n",
    "                # Видаляємо ребро (u -> v)\n",
    "                self.graph[u] = [x for x in self.graph[u] if x[0] != v]\n",
    "                # Видаляємо ребро (v -> u)\n",
    "                self.graph[v] = [x for x in self.graph[v] if x[0] != u]\n",
    "            else:\n",
    "                print(f\"Ребра між {u} і {v} не існує.\")\n",
    "        else:\n",
    "            print(f\"Одна з вершин {u} або {v} не існує.\")\n"
   ]
  },
  {
   "cell_type": "code",
   "execution_count": 51,
   "metadata": {},
   "outputs": [],
   "source": [
    "class orientedGraph(baseGraph):\n",
    "    def add_edge(self, u, v):\n",
    "        \"\"\"Додає орієнтоване ребро (u --> v).\"\"\"\n",
    "        if u in self.graph and v in self.graph:\n",
    "            # Перевіряємо, чи вже існує орієнтоване ребро\n",
    "            if v not in self.graph[u]:\n",
    "                self.graph[u].append(v)\n",
    "            else:\n",
    "                print(f\"Ребро (u -> v) вже існує.\")\n",
    "        else:\n",
    "            print(f\"Одна з вершин {u} або {v} не існує.\")\n",
    "    \n",
    "    def del_edge(self, u, v):\n",
    "        \"\"\"Видаляє орієнтоване ребро (u --> v).\"\"\"\n",
    "        if u in self.graph and v in self.graph:\n",
    "            # Перевіряємо, чи існує орієнтоване ребро перед видаленням\n",
    "            if v in self.graph[u]:\n",
    "                self.graph[u].remove(v)\n",
    "            else: \n",
    "                print(f\"Ребра (u -> v) не існує.\")\n",
    "        else:\n",
    "            print(f\"Одна з вершин {u} або {v} не існує.\")\n",
    "\n",
    "\n",
    "\n"
   ]
  },
  {
   "cell_type": "code",
   "execution_count": 52,
   "metadata": {},
   "outputs": [],
   "source": [
    "class orientedWeightedGraph(baseGraph):\n",
    "    def add_edge(self, u, v, w):\n",
    "        \"\"\" Додає орієнтоване зважене ребро (u --w--> v). \"\"\"\n",
    "        if u in self.graph and v in self.graph:\n",
    "            # Перевіряємо, чи вже існує орієнтоване зважене ребро\n",
    "            if not any(x[0] == v for x in self.graph[u]):\n",
    "                self.graph[u].append((v, w))\n",
    "            else:\n",
    "                print(f\"Ребро (u --w--> v) вже існує.\")\n",
    "        else:\n",
    "            print(f\"Одна з вершин {u} або {v} не існує.\")\n",
    "    \n",
    "    def del_edge(self, u, v):\n",
    "        \"\"\" Видаляє орієнтоване зважене ребро (u --w--> v). \"\"\"\n",
    "        if u in self.graph and v in self.graph:\n",
    "            # Перевіряємо, чи існує орієнтоване зважене ребро перед видаленням\n",
    "            if any(x[0] == v for x in self.graph[u]):\n",
    "                self.graph[u] = [x for x in self.graph[u] if x[0] != v]\n",
    "            else:\n",
    "                print(f\"Ребра (u --w--> v) не існує.\")\n",
    "        else:\n",
    "            print(f\"Одна з вершин {u} або {v} не існує.\")\n",
    "\n"
   ]
  },
  {
   "cell_type": "code",
   "execution_count": 53,
   "metadata": {},
   "outputs": [],
   "source": [
    "g = orientedWeightedGraph(5)"
   ]
  },
  {
   "cell_type": "code",
   "execution_count": 54,
   "metadata": {},
   "outputs": [
    {
     "name": "stdout",
     "output_type": "stream",
     "text": [
      "1: []\n",
      "2: []\n",
      "3: []\n",
      "4: []\n",
      "5: []\n"
     ]
    }
   ],
   "source": [
    "g.show()"
   ]
  },
  {
   "cell_type": "code",
   "execution_count": 55,
   "metadata": {},
   "outputs": [],
   "source": [
    "g.add_edge(2, 3, 5)"
   ]
  },
  {
   "cell_type": "code",
   "execution_count": 56,
   "metadata": {},
   "outputs": [
    {
     "name": "stdout",
     "output_type": "stream",
     "text": [
      "1: []\n",
      "2: [(3, 5)]\n",
      "3: []\n",
      "4: []\n",
      "5: []\n"
     ]
    }
   ],
   "source": [
    "g.show()"
   ]
  },
  {
   "cell_type": "code",
   "execution_count": 58,
   "metadata": {},
   "outputs": [
    {
     "name": "stdout",
     "output_type": "stream",
     "text": [
      "1: [(2, 2), (3, 3)]\n",
      "2: [(1, 2)]\n",
      "3: [(1, 3)]\n"
     ]
    }
   ],
   "source": [
    "matrix = [\n",
    "    [0, 2, 3],\n",
    "    [2, 0, 0],\n",
    "    [3, 0, 0]\n",
    "]\n",
    "\n",
    "graph = baseGraph(len(matrix))\n",
    "graph.to_adjacency_list(matrix, weighted=True)\n",
    "\n",
    "graph.show()\n"
   ]
  },
  {
   "cell_type": "code",
   "execution_count": 61,
   "metadata": {},
   "outputs": [],
   "source": [
    "a = graph.to_adjacency_matrix()"
   ]
  },
  {
   "cell_type": "code",
   "execution_count": 60,
   "metadata": {},
   "outputs": [
    {
     "name": "stdout",
     "output_type": "stream",
     "text": [
      "1: [(2, 2), (3, 3)]\n",
      "2: [(1, 2)]\n",
      "3: [(1, 3)]\n"
     ]
    }
   ],
   "source": [
    "graph.show()"
   ]
  },
  {
   "cell_type": "code",
   "execution_count": null,
   "metadata": {},
   "outputs": [],
   "source": []
  }
 ],
 "metadata": {
  "kernelspec": {
   "display_name": "thirdcourse",
   "language": "python",
   "name": "python3"
  },
  "language_info": {
   "codemirror_mode": {
    "name": "ipython",
    "version": 3
   },
   "file_extension": ".py",
   "mimetype": "text/x-python",
   "name": "python",
   "nbconvert_exporter": "python",
   "pygments_lexer": "ipython3",
   "version": "3.11.8"
  }
 },
 "nbformat": 4,
 "nbformat_minor": 2
}
