{
 "cells": [
  {
   "cell_type": "code",
   "execution_count": null,
   "metadata": {},
   "outputs": [],
   "source": []
  },
  {
   "cell_type": "code",
   "execution_count": null,
   "metadata": {},
   "outputs": [],
   "source": []
  },
  {
   "cell_type": "code",
   "execution_count": 27,
   "metadata": {},
   "outputs": [],
   "source": [
    "class baseGraph:\n",
    "    def __init__(self, n):\n",
    "        \"\"\" Ініціалізує порожній граф.\n",
    "        \n",
    "        n - кількість вершин\n",
    "        \"\"\"\n",
    "        self.num_vertices = n\n",
    "        self.graph = {i+1: [] for i in range(n)}  # Порожній граф у вигляді списку суміжності {1: [], 2: [] ... }\n",
    "\n",
    "    def add_vertex(self):\n",
    "        \"\"\" Додає нову вершину до графа. \"\"\"\n",
    "        self.num_vertices += 1  # Збільшуємо кількість вершин\n",
    "        self.graph[self.num_vertices] = []  # Додаємо нову вершину з порожнім списком сусідів\n",
    "    \n",
    "    def del_vertex(self, v):\n",
    "        \"\"\" Видаляє вершину v і всі пов'язані з нею ребра. \"\"\"\n",
    "        if v in self.graph:\n",
    "            # Видаляємо всі ребра, пов'язані з вершиною v\n",
    "            for neighbor in self.graph[v]:\n",
    "                self.graph[neighbor].remove(v)  # Видаляємо v з сусідів кожної вершини\n",
    "            # Видаляємо саму вершину\n",
    "            del self.graph[v]\n",
    "            self.num_vertices -= 1  # Зменшуємо кількість вершин\n",
    "        else:\n",
    "            print(f\"Вершина {v} не існує.\")\n",
    "\n",
    "    def show(self):\n",
    "        \"\"\" Виводить граф у вигляді списку суміжності. \"\"\"\n",
    "        for vertex in self.graph:\n",
    "            print(f\"{vertex}: {self.graph[vertex]}\")\n"
   ]
  },
  {
   "cell_type": "code",
   "execution_count": 28,
   "metadata": {},
   "outputs": [],
   "source": [
    "class Graph(baseGraph):\n",
    "    def add_edge(self, u, v):\n",
    "        \"\"\" Додає ребро (u <--> v) \"\"\"\n",
    "        if u in self.graph and v in self.graph:\n",
    "            self.graph[u].append(v)\n",
    "            self.graph[v].append(u)\n",
    "        else:\n",
    "            print(f\"Одна з вершин {u} або {v} не існує.\")\n",
    "    \n",
    "    def del_edge(self, u, v):\n",
    "        \"\"\" Видаляє ребро (u <--> v) \"\"\"\n",
    "        if u in self.graph and v in self.graph:\n",
    "            if v in self.graph[u] and u in self.graph[v]:\n",
    "                self.graph[u].remove(v)\n",
    "                self.graph[v].remove(u)\n",
    "            else: \n",
    "                print(f\"Ребра (u <-> v) не існує\")\n",
    "        else:\n",
    "            print(f\"Одна з вершин {u} або {v} не існує.\")\n",
    "\n"
   ]
  },
  {
   "cell_type": "code",
   "execution_count": 29,
   "metadata": {},
   "outputs": [],
   "source": [
    "\n",
    "class weightedGraph(baseGraph):\n",
    "    def add_edge(self, u, v, w):\n",
    "        \"\"\" Додає зважене ребро (u <--w--> v). \"\"\"\n",
    "        if u in self.graph and v in self.graph:\n",
    "            self.graph[u].append((v, w))\n",
    "            self.graph[v].append((u, w))\n",
    "        else:\n",
    "            print(f\"Одна з вершин {u} або {v} не існує.\")\n",
    "    \n",
    "    def del_edge(self, u, v):\n",
    "        \"\"\" Видаляє зважене ребро (u <--w--> v). \"\"\"\n",
    "        if u in self.graph and v in self.graph:\n",
    "            if v in self.graph[u] and u in self.graph[v]:\n",
    "                # Видаляємо ребро (u -> v)\n",
    "                self.graph[u] = [x for x in self.graph[u] if x[0] != v]\n",
    "                # Видаляємо ребро (v -> u)\n",
    "                self.graph[v] = [x for x in self.graph[v] if x[0] != u]\n",
    "        else:\n",
    "            print(f\"Одна з вершин {u} або {v} не існує.\")\n",
    "\n"
   ]
  },
  {
   "cell_type": "code",
   "execution_count": 30,
   "metadata": {},
   "outputs": [],
   "source": [
    "class orientedGraph(baseGraph):\n",
    "    def add_edge(self, u, v):\n",
    "        \"\"\"Додає орієнтоване ребро (u --> v).\"\"\"\n",
    "        if u in self.graph and v in self.graph:\n",
    "            self.graph[u].append(v)\n",
    "        else:\n",
    "            print(f\"Одна з вершин {u} або {v} не існує.\")\n",
    "    \n",
    "    def del_edge(self, u, v):\n",
    "        \"\"\"Видаляє орієнтоване ребро (u --> v).\"\"\"\n",
    "        if u in self.graph and v in self.graph:\n",
    "            if v in self.graph[u]:\n",
    "                self.graph[u].remove(v)\n",
    "            else: \n",
    "                print(f\"Ребра (u -> v) не існує.\")\n",
    "        else:\n",
    "            print(f\"Одна з вершин {u} або {v} не існує.\")\n",
    "\n"
   ]
  },
  {
   "cell_type": "code",
   "execution_count": 31,
   "metadata": {},
   "outputs": [],
   "source": [
    "class orientedWeightedGraph(baseGraph):\n",
    "    def add_edge(self, u, v, w):\n",
    "        \"\"\" Додає орієнтоване зважене ребро (u --w--> v). \"\"\"\n",
    "        if u in self.graph and v in self.graph:\n",
    "            self.graph[u].append((v, w))\n",
    "        else:\n",
    "            print(f\"Одна з вершин {u} або {v} не існує.\")\n",
    "    \n",
    "    def del_edge(self, u, v):\n",
    "        \"\"\" Видаляє орієнтоване зважене ребро (u --w--> v). \"\"\"\n",
    "        if u in self.graph and v in self.graph:\n",
    "            self.graph[u] = [x for x in self.graph[u] if x[0] != v]\n",
    "        else:\n",
    "            print(f\"Одна з вершин {u} або {v} не існує.\")\n"
   ]
  },
  {
   "cell_type": "code",
   "execution_count": 32,
   "metadata": {},
   "outputs": [],
   "source": [
    "g = orientedWeightedGraph(5)"
   ]
  },
  {
   "cell_type": "code",
   "execution_count": 35,
   "metadata": {},
   "outputs": [
    {
     "name": "stdout",
     "output_type": "stream",
     "text": [
      "1: []\n",
      "2: []\n",
      "3: []\n",
      "4: []\n",
      "5: []\n"
     ]
    }
   ],
   "source": [
    "g.show()"
   ]
  },
  {
   "cell_type": "code",
   "execution_count": 36,
   "metadata": {},
   "outputs": [],
   "source": [
    "g.add_edge(2, 3, 5)"
   ]
  },
  {
   "cell_type": "code",
   "execution_count": 37,
   "metadata": {},
   "outputs": [
    {
     "name": "stdout",
     "output_type": "stream",
     "text": [
      "1: []\n",
      "2: [(3, 5)]\n",
      "3: []\n",
      "4: []\n",
      "5: []\n"
     ]
    }
   ],
   "source": [
    "g.show()"
   ]
  },
  {
   "cell_type": "code",
   "execution_count": null,
   "metadata": {},
   "outputs": [],
   "source": []
  }
 ],
 "metadata": {
  "kernelspec": {
   "display_name": "thirdcourse",
   "language": "python",
   "name": "python3"
  },
  "language_info": {
   "codemirror_mode": {
    "name": "ipython",
    "version": 3
   },
   "file_extension": ".py",
   "mimetype": "text/x-python",
   "name": "python",
   "nbconvert_exporter": "python",
   "pygments_lexer": "ipython3",
   "version": "3.11.8"
  }
 },
 "nbformat": 4,
 "nbformat_minor": 2
}
