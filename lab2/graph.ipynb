{
 "cells": [
  {
   "cell_type": "code",
   "execution_count": null,
   "metadata": {},
   "outputs": [],
   "source": []
  },
  {
   "cell_type": "code",
   "execution_count": 48,
   "metadata": {},
   "outputs": [],
   "source": [
    "class baseGraph:\n",
    "    def __init__(self, n):\n",
    "        \"\"\" Ініціалізує порожній граф.\n",
    "        \n",
    "        n - кількість вершин\n",
    "        \"\"\"\n",
    "        self.num_vertices = n\n",
    "        self.graph = {i+1: [] for i in range(n)}  # Порожній граф у вигляді списку суміжності {1: [], 2: [] ... }\n",
    "\n",
    "    def add_vertex(self):\n",
    "        \"\"\" Додає нову вершину до графа. \"\"\"\n",
    "        self.num_vertices += 1  # Збільшуємо кількість вершин\n",
    "        self.graph[self.num_vertices] = []  # Додаємо нову вершину з порожнім списком сусідів\n",
    "    \n",
    "    def del_vertex(self, v):\n",
    "        \"\"\" Видаляє вершину v і всі пов'язані з нею ребра. \"\"\"\n",
    "        if v in self.graph:\n",
    "            # Видаляємо всі ребра, пов'язані з вершиною v\n",
    "            for neighbor in self.graph[v]:\n",
    "                self.graph[neighbor].remove(v)  # Видаляємо v з сусідів кожної вершини\n",
    "            # Видаляємо саму вершину\n",
    "            del self.graph[v]\n",
    "            self.num_vertices -= 1  # Зменшуємо кількість вершин\n",
    "        else:\n",
    "            print(f\"Вершина {v} не існує.\")\n",
    "\n",
    "    def show(self):\n",
    "        \"\"\" Виводить граф у вигляді списку суміжності. \"\"\"\n",
    "        for vertex in self.graph:\n",
    "            print(f\"{vertex}: {self.graph[vertex]}\")\n",
    "\n",
    "    def to_adjacency_matrix(self):\n",
    "        \"\"\" Перетворює граф зі списку суміжності у матрицю суміжності. \"\"\"\n",
    "        # Ініціалізуємо матрицю розміром num_vertices x num_vertices з нулями\n",
    "        matrix = [[0] * self.num_vertices for _ in range(self.num_vertices)]\n",
    "        \n",
    "        for vertex, neighbors in self.graph.items():\n",
    "            for neighbor in neighbors:\n",
    "                if isinstance(neighbor, tuple):\n",
    "                    # Якщо граф зважений, присвоюємо вагу ребра\n",
    "                    matrix[vertex-1][neighbor[0]-1] = neighbor[1]\n",
    "                else:\n",
    "                    # Якщо граф незважений, просто ставимо 1\n",
    "                    matrix[vertex-1][neighbor-1] = 1\n",
    "        return matrix\n",
    "\n",
    "    def to_adjacency_list(self, matrix, weighted=False):\n",
    "        \"\"\" Перетворює граф з матриці суміжності у список суміжності.\n",
    "        \n",
    "        matrix - матриця суміжності\n",
    "        weighted - булевий параметр, який вказує, чи граф є зваженим\n",
    "        \"\"\"\n",
    "        self.num_vertices = len(matrix)\n",
    "        self.graph = {i+1: [] for i in range(self.num_vertices)}  # Очищаємо граф і створюємо новий список суміжності\n",
    "\n",
    "        for i in range(self.num_vertices):\n",
    "            for j in range(self.num_vertices):\n",
    "                if matrix[i][j] != 0:  # Якщо є ребро\n",
    "                    if weighted:\n",
    "                        # Якщо граф зважений, додаємо кортеж (вершина, вага)\n",
    "                        self.graph[i+1].append((j+1, matrix[i][j]))\n",
    "                    else:\n",
    "                        # Якщо граф незважений, додаємо тільки вершину\n",
    "                        self.graph[i+1].append(j+1)\n",
    "\n",
    "\n"
   ]
  },
  {
   "cell_type": "code",
   "execution_count": 49,
   "metadata": {},
   "outputs": [],
   "source": [
    "class Graph(baseGraph):\n",
    "    def add_edge(self, u, v):\n",
    "        \"\"\" Додає ребро (u <--> v) \"\"\"\n",
    "        # перевірка чи існують вершини\n",
    "        if u in self.graph and v in self.graph:\n",
    "            if v not in self.graph[u]:\n",
    "                self.graph[u].append(v)\n",
    "                self.graph[v].append(u)\n",
    "            else:\n",
    "                print(f\"Ребро між {u} і {v} вже існує.\")\n",
    "        else:\n",
    "            print(f\"Одна з вершин {u} або {v} не існує.\")\n",
    "    \n",
    "    def del_edge(self, u, v):\n",
    "        \"\"\" Видаляє ребро (u <--> v) \"\"\"\n",
    "        # перевірка чи існують вершини\n",
    "        if u in self.graph and v in self.graph:\n",
    "            # Перевірка, чи вже існує ребро\n",
    "            if v in self.graph[u]:\n",
    "                self.graph[u].remove(v)\n",
    "                self.graph[v].remove(u)\n",
    "            else:\n",
    "                print(f\"Ребра між {u} і {v} не існує.\")\n",
    "        else:\n",
    "            print(f\"Одна з вершин {u} або {v} не існує.\")\n",
    "\n",
    "\n"
   ]
  },
  {
   "cell_type": "code",
   "execution_count": 50,
   "metadata": {},
   "outputs": [],
   "source": [
    "class weightedGraph(baseGraph):\n",
    "    def add_edge(self, u, v, w):\n",
    "        \"\"\" Додає зважене ребро (u <--w--> v). \"\"\"\n",
    "        if u in self.graph and v in self.graph:\n",
    "            # Перевірка, чи вже існує ребро\n",
    "            if not any(x[0] == v for x in self.graph[u]):\n",
    "                self.graph[u].append((v, w))\n",
    "                self.graph[v].append((u, w))\n",
    "            else:\n",
    "                print(f\"Ребро між {u} і {v} вже існує.\")\n",
    "        else:\n",
    "            print(f\"Одна з вершин {u} або {v} не існує.\")\n",
    "    \n",
    "    def del_edge(self, u, v):\n",
    "        \"\"\" Видаляє зважене ребро (u <--w--> v). \"\"\"\n",
    "        if u in self.graph and v in self.graph:\n",
    "            # Перевірка, чи існує ребро перед видаленням\n",
    "            if any(x[0] == v for x in self.graph[u]):\n",
    "                # Видаляємо ребро (u -> v)\n",
    "                self.graph[u] = [x for x in self.graph[u] if x[0] != v]\n",
    "                # Видаляємо ребро (v -> u)\n",
    "                self.graph[v] = [x for x in self.graph[v] if x[0] != u]\n",
    "            else:\n",
    "                print(f\"Ребра між {u} і {v} не існує.\")\n",
    "        else:\n",
    "            print(f\"Одна з вершин {u} або {v} не існує.\")\n"
   ]
  },
  {
   "cell_type": "code",
   "execution_count": 51,
   "metadata": {},
   "outputs": [],
   "source": [
    "class orientedGraph(baseGraph):\n",
    "    def add_edge(self, u, v):\n",
    "        \"\"\"Додає орієнтоване ребро (u --> v).\"\"\"\n",
    "        if u in self.graph and v in self.graph:\n",
    "            # Перевіряємо, чи вже існує орієнтоване ребро\n",
    "            if v not in self.graph[u]:\n",
    "                self.graph[u].append(v)\n",
    "            else:\n",
    "                print(f\"Ребро (u -> v) вже існує.\")\n",
    "        else:\n",
    "            print(f\"Одна з вершин {u} або {v} не існує.\")\n",
    "    \n",
    "    def del_edge(self, u, v):\n",
    "        \"\"\"Видаляє орієнтоване ребро (u --> v).\"\"\"\n",
    "        if u in self.graph and v in self.graph:\n",
    "            # Перевіряємо, чи існує орієнтоване ребро перед видаленням\n",
    "            if v in self.graph[u]:\n",
    "                self.graph[u].remove(v)\n",
    "            else: \n",
    "                print(f\"Ребра (u -> v) не існує.\")\n",
    "        else:\n",
    "            print(f\"Одна з вершин {u} або {v} не існує.\")\n",
    "\n",
    "\n",
    "\n"
   ]
  },
  {
   "cell_type": "code",
   "execution_count": 52,
   "metadata": {},
   "outputs": [],
   "source": [
    "class orientedWeightedGraph(baseGraph):\n",
    "    def add_edge(self, u, v, w):\n",
    "        \"\"\" Додає орієнтоване зважене ребро (u --w--> v). \"\"\"\n",
    "        if u in self.graph and v in self.graph:\n",
    "            # Перевіряємо, чи вже існує орієнтоване зважене ребро\n",
    "            if not any(x[0] == v for x in self.graph[u]):\n",
    "                self.graph[u].append((v, w))\n",
    "            else:\n",
    "                print(f\"Ребро (u --w--> v) вже існує.\")\n",
    "        else:\n",
    "            print(f\"Одна з вершин {u} або {v} не існує.\")\n",
    "    \n",
    "    def del_edge(self, u, v):\n",
    "        \"\"\" Видаляє орієнтоване зважене ребро (u --w--> v). \"\"\"\n",
    "        if u in self.graph and v in self.graph:\n",
    "            # Перевіряємо, чи існує орієнтоване зважене ребро перед видаленням\n",
    "            if any(x[0] == v for x in self.graph[u]):\n",
    "                self.graph[u] = [x for x in self.graph[u] if x[0] != v]\n",
    "            else:\n",
    "                print(f\"Ребра (u --w--> v) не існує.\")\n",
    "        else:\n",
    "            print(f\"Одна з вершин {u} або {v} не існує.\")\n",
    "\n"
   ]
  },
  {
   "cell_type": "code",
   "execution_count": 64,
   "metadata": {},
   "outputs": [],
   "source": [
    "import random"
   ]
  },
  {
   "cell_type": "code",
   "execution_count": 73,
   "metadata": {},
   "outputs": [],
   "source": [
    "class randomOrientedGraph(orientedGraph):\n",
    "    def __init__(self, n, p):\n",
    "        \"\"\"\n",
    "        Ініціалізує випадковий граф у моделі Ердеша-Шеньї.\n",
    "        \n",
    "        n - кількість вершин\n",
    "        p - ймовірність наявності ребра між будь-якими двома вершинами\n",
    "        \"\"\"\n",
    "        super().__init__(n)  # Викликаємо конструктор базового графа\n",
    "        self.generate_random_graph(p)\n",
    "\n",
    "    def generate_random_graph(self, p):\n",
    "        \"\"\" Генерує випадковий граф з імовірністю p для кожної пари вершин. \"\"\"\n",
    "        for i in range(1, self.num_vertices + 1):\n",
    "            for j in range(i + 1, self.num_vertices + 1):  # Проходимо по всіх парах вершин (i < j)\n",
    "                if random.random() < p:  # Якщо випадкове число менше за p, додаємо ребро\n",
    "                    self.add_edge(i, j)"
   ]
  },
  {
   "cell_type": "code",
   "execution_count": 74,
   "metadata": {},
   "outputs": [],
   "source": [
    "class randomOrientedWeightedGraph(orientedWeightedGraph):\n",
    "    def __init__(self, n, p, min_weight=1, max_weight=10):\n",
    "        \"\"\"\n",
    "        Ініціалізує випадковий зважений граф у моделі Ердеша-Шеньї.\n",
    "        \n",
    "        n - кількість вершин\n",
    "        p - ймовірність наявності ребра між будь-якими двома вершинами\n",
    "        max_weight - максимальна вага для ребра\n",
    "        \"\"\"\n",
    "        super().__init__(n)\n",
    "        self.generate_random_graph(p, min_weight, max_weight)\n",
    "\n",
    "    def generate_random_graph(self, p, min_weight, max_weight):\n",
    "        \"\"\" Генерує випадковий зважений граф з ймовірністю p для кожної пари вершин. \"\"\"\n",
    "        for i in range(1, self.num_vertices + 1):\n",
    "            for j in range(i + 1, self.num_vertices + 1):\n",
    "                if random.random() < p:\n",
    "                    weight = random.randint(min_weight, max_weight)  # Генеруємо випадкову вагу\n",
    "                    self.add_edge(i, j, weight)\n"
   ]
  },
  {
   "cell_type": "code",
   "execution_count": 53,
   "metadata": {},
   "outputs": [],
   "source": [
    "g = orientedWeightedGraph(5)"
   ]
  },
  {
   "cell_type": "code",
   "execution_count": 54,
   "metadata": {},
   "outputs": [
    {
     "name": "stdout",
     "output_type": "stream",
     "text": [
      "1: []\n",
      "2: []\n",
      "3: []\n",
      "4: []\n",
      "5: []\n"
     ]
    }
   ],
   "source": [
    "g.show()"
   ]
  },
  {
   "cell_type": "code",
   "execution_count": 55,
   "metadata": {},
   "outputs": [],
   "source": [
    "g.add_edge(2, 3, 5)"
   ]
  },
  {
   "cell_type": "code",
   "execution_count": 56,
   "metadata": {},
   "outputs": [
    {
     "name": "stdout",
     "output_type": "stream",
     "text": [
      "1: []\n",
      "2: [(3, 5)]\n",
      "3: []\n",
      "4: []\n",
      "5: []\n"
     ]
    }
   ],
   "source": [
    "g.show()"
   ]
  },
  {
   "cell_type": "code",
   "execution_count": 58,
   "metadata": {},
   "outputs": [
    {
     "name": "stdout",
     "output_type": "stream",
     "text": [
      "1: [(2, 2), (3, 3)]\n",
      "2: [(1, 2)]\n",
      "3: [(1, 3)]\n"
     ]
    }
   ],
   "source": [
    "matrix = [\n",
    "    [0, 2, 3],\n",
    "    [2, 0, 0],\n",
    "    [3, 0, 0]\n",
    "]\n",
    "\n",
    "graph = baseGraph(len(matrix))\n",
    "graph.to_adjacency_list(matrix, weighted=True)\n",
    "\n",
    "graph.show()\n"
   ]
  },
  {
   "cell_type": "code",
   "execution_count": 61,
   "metadata": {},
   "outputs": [],
   "source": [
    "a = graph.to_adjacency_matrix()"
   ]
  },
  {
   "cell_type": "code",
   "execution_count": 60,
   "metadata": {},
   "outputs": [
    {
     "name": "stdout",
     "output_type": "stream",
     "text": [
      "1: [(2, 2), (3, 3)]\n",
      "2: [(1, 2)]\n",
      "3: [(1, 3)]\n"
     ]
    }
   ],
   "source": [
    "graph.show()"
   ]
  },
  {
   "cell_type": "code",
   "execution_count": 67,
   "metadata": {},
   "outputs": [],
   "source": [
    "import math"
   ]
  },
  {
   "cell_type": "code",
   "execution_count": 122,
   "metadata": {},
   "outputs": [],
   "source": [
    "test = randomOrientedGraph(100, 3*math.log(100)/100)"
   ]
  },
  {
   "cell_type": "code",
   "execution_count": 123,
   "metadata": {},
   "outputs": [
    {
     "name": "stdout",
     "output_type": "stream",
     "text": [
      "1: [23, 26, 27, 34, 36, 38, 44, 45, 57, 58, 60, 62, 85, 90, 91]\n",
      "2: [3, 8, 12, 32, 36, 39, 42, 43, 46, 48, 55, 63, 66]\n",
      "3: [5, 13, 15, 27, 36, 65, 69, 76, 79, 86, 95]\n",
      "4: [12, 20, 22, 27, 34, 35, 43, 55, 65, 67, 75, 76, 94]\n",
      "5: [6, 7, 10, 35, 46, 48, 57, 77, 85, 89, 95]\n",
      "6: [8, 27, 32, 59, 68, 90, 96]\n",
      "7: [22, 34, 39, 40, 42, 54, 65, 68, 79, 88, 98]\n",
      "8: [10, 12, 20, 27, 35, 39, 40, 43, 51, 53, 63, 65, 69, 84, 86, 90]\n",
      "9: [15, 17, 21, 37, 48, 59, 60, 80, 82, 91, 93, 95, 99]\n",
      "10: [20, 24, 26, 27, 31, 53, 58, 68, 73, 78, 81, 88, 99, 100]\n",
      "11: [13, 16, 41, 50, 57, 74, 80]\n",
      "12: [18, 36, 41, 43, 46, 57, 58, 59, 71, 79, 85, 86, 95]\n",
      "13: [29, 30, 37, 46, 51, 58, 71, 78, 80]\n",
      "14: [20, 24, 28, 35, 41, 53, 67, 70, 72, 73, 76, 79]\n",
      "15: [25, 29, 31, 48, 49, 60, 61, 65, 74, 98]\n",
      "16: [21, 31, 67, 89]\n",
      "17: [20, 31, 42, 49, 68, 69, 78, 86, 90, 94, 97]\n",
      "18: [21, 24, 30, 49, 53, 61, 76, 78, 79, 84, 86, 97, 99]\n",
      "19: [22, 50, 60, 71, 75, 85, 93, 95, 100]\n",
      "20: [26, 27, 32, 33, 53, 54, 57, 63, 72, 77, 79, 81, 89, 91, 95, 99]\n",
      "21: [22, 23, 25, 31, 39, 40, 41, 42, 51, 52, 55, 66, 68, 75, 80, 97, 100]\n",
      "22: [24, 30, 45, 53, 55, 59, 60, 62, 76, 78, 80, 82, 95]\n",
      "23: [25, 31, 49, 60, 70, 77, 82, 83]\n",
      "24: [25, 30, 36, 45, 51, 54, 56, 61, 62, 83, 88, 93, 96, 97]\n",
      "25: [28, 30, 37, 38, 58, 61, 69, 70, 79, 82, 86]\n",
      "26: [58, 78, 80, 87, 88, 89, 96, 100]\n",
      "27: [31, 33, 34, 46, 50, 53, 59, 70, 76, 77, 92]\n",
      "28: [30, 38, 43, 54, 58, 61, 63, 67, 73, 78, 85, 87, 92, 93]\n",
      "29: [48, 49, 82, 89, 94, 97]\n",
      "30: [34, 36, 47, 48, 50, 52, 53, 61, 70, 71, 74, 76, 77, 86]\n",
      "31: [38, 39, 72, 84, 95]\n",
      "32: [61, 73, 74, 75, 78, 81, 85]\n",
      "33: [35, 47, 58, 73, 74, 83, 91]\n",
      "34: [45, 51, 62, 66, 92]\n",
      "35: [45, 48, 49, 50, 54, 62, 63, 66, 69, 70, 78, 82, 85, 97]\n",
      "36: [47, 55, 56, 65, 67, 81, 82, 95, 96, 97]\n",
      "37: [39, 42, 46, 47, 51, 55, 71, 81, 93, 96, 98]\n",
      "38: [39, 49, 51, 62, 63, 65, 70, 75, 81, 86, 93, 100]\n",
      "39: [46, 48, 50, 58, 62, 69, 75, 80, 91, 92, 98]\n",
      "40: [41, 42, 45, 50, 61, 67, 71, 72, 84, 90, 94]\n",
      "41: [49, 52, 55, 64, 67, 68, 80, 88, 92, 95, 96, 98]\n",
      "42: [46, 53, 66, 69, 71, 79, 80]\n",
      "43: [61, 63, 74, 76, 78, 79, 84, 85, 92, 100]\n",
      "44: [46, 57, 58, 67, 69, 70, 77, 91, 96]\n",
      "45: [67, 80, 86, 93]\n",
      "46: [55, 57, 59, 69, 78, 80, 94, 99]\n",
      "47: [58, 67, 74, 75, 79, 80, 82, 83, 91, 99]\n",
      "48: [62, 65, 67, 70, 79, 82, 91, 93]\n",
      "49: [53, 55, 57, 58, 63, 75, 80, 82, 92, 99]\n",
      "50: [64, 73, 84]\n",
      "51: [53, 59, 62, 64, 68, 70, 78, 80, 81, 83, 88, 90, 93, 94]\n",
      "52: [55, 63, 70, 78, 79, 83, 86, 89, 91]\n",
      "53: [55, 63, 74, 82, 91, 97]\n",
      "54: [73, 74, 78, 82, 92]\n",
      "55: [56, 57, 58, 80, 85, 88, 91]\n",
      "56: [66, 73, 74, 79, 84, 88, 90, 95]\n",
      "57: [61, 78, 84, 94, 95]\n",
      "58: [78, 95, 96, 97]\n",
      "59: [60, 61, 64, 74, 85, 92]\n",
      "60: [75, 87, 88, 92, 96]\n",
      "61: [62, 68, 70, 74, 81, 95, 96]\n",
      "62: [68, 80, 84, 100]\n",
      "63: [76, 81, 84, 87, 97]\n",
      "64: [65, 80, 94, 98]\n",
      "65: [68, 87, 99]\n",
      "66: [68, 79, 85, 86, 89, 93, 98]\n",
      "67: [70, 73, 76, 81, 83, 85, 92, 96]\n",
      "68: [74, 77, 80, 84, 93, 96, 98, 99]\n",
      "69: [77, 81, 82, 88, 99]\n",
      "70: [72, 75, 82, 88, 93, 97, 98]\n",
      "71: [73, 78, 88, 90, 93, 95, 96, 97, 98]\n",
      "72: [88]\n",
      "73: [79, 87, 89]\n",
      "74: [78, 81, 91, 92, 98, 99]\n",
      "75: [85, 89, 91, 92]\n",
      "76: [81, 93]\n",
      "77: [78, 93]\n",
      "78: [80, 88, 93, 96]\n",
      "79: [93]\n",
      "80: [90, 95]\n",
      "81: [83, 94]\n",
      "82: [97]\n",
      "83: [94, 96, 100]\n",
      "84: [86, 88, 89, 91, 99]\n",
      "85: [88, 93]\n",
      "86: []\n",
      "87: [88, 90, 91, 98, 100]\n",
      "88: [89, 100]\n",
      "89: [97, 99]\n",
      "90: [93]\n",
      "91: [100]\n",
      "92: [96, 99]\n",
      "93: [96, 100]\n",
      "94: []\n",
      "95: []\n",
      "96: [100]\n",
      "97: []\n",
      "98: []\n",
      "99: []\n",
      "100: []\n"
     ]
    }
   ],
   "source": [
    "test.show()"
   ]
  },
  {
   "cell_type": "code",
   "execution_count": 112,
   "metadata": {},
   "outputs": [
    {
     "data": {
      "text/plain": [
       "__main__.randomOrientedGraph"
      ]
     },
     "execution_count": 112,
     "metadata": {},
     "output_type": "execute_result"
    }
   ],
   "source": [
    "type(test)"
   ]
  },
  {
   "cell_type": "code",
   "execution_count": null,
   "metadata": {},
   "outputs": [],
   "source": []
  }
 ],
 "metadata": {
  "kernelspec": {
   "display_name": "thirdcourse",
   "language": "python",
   "name": "python3"
  },
  "language_info": {
   "codemirror_mode": {
    "name": "ipython",
    "version": 3
   },
   "file_extension": ".py",
   "mimetype": "text/x-python",
   "name": "python",
   "nbconvert_exporter": "python",
   "pygments_lexer": "ipython3",
   "version": "3.11.8"
  }
 },
 "nbformat": 4,
 "nbformat_minor": 2
}
