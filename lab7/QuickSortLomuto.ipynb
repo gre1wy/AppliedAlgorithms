{
 "cells": [
  {
   "cell_type": "code",
   "execution_count": 6,
   "metadata": {},
   "outputs": [],
   "source": [
    "import random\n",
    "import time"
   ]
  },
  {
   "cell_type": "code",
   "execution_count": 7,
   "metadata": {},
   "outputs": [],
   "source": [
    "class QuickSortLomuto:\n",
    "    def __init__(self, pivot_type):\n",
    "        self.pivot_type = pivot_type\n",
    "        self.swaps = 0\n",
    "        self.comparisons = 0\n",
    "        self.exec_time = 0\n",
    "        self.memory_used = 0\n",
    "\n",
    "    def clean_metrics(self):\n",
    "        self.swaps = 0\n",
    "        self.comparisons = 0\n",
    "        self.exec_time = 0\n",
    "        self.memory_used = 0\n",
    "\n",
    "    def qsort(self, arr):\n",
    "        self.clean_metrics()\n",
    "        start_time = time.time()\n",
    "        self.sort_runner(arr, 0, len(arr) - 1)\n",
    "        self.exec_time = time.time() - start_time\n",
    "\n",
    "    def sort_runner(self, arr, low, high):\n",
    "        if low < high:\n",
    "            p = self.partition(arr, low, high)\n",
    "            self.sort_runner(arr, low, p - 1)\n",
    "            self.sort_runner(arr, p + 1, high)\n",
    "\n",
    "    def partition(self, arr, low, high):\n",
    "        pivot_index = self.pivot_selector(arr, low, high)\n",
    "\n",
    "        self.comparisons += 1\n",
    "        if pivot_index != high:\n",
    "            self.swaps += 1\n",
    "            arr[pivot_index], arr[high] = arr[high], arr[pivot_index] \n",
    "\n",
    "        pivot = arr[high] \n",
    "        i = low - 1\n",
    "        for j in range(low, high):\n",
    "            self.comparisons += 1\n",
    "            if arr[j] < pivot:\n",
    "                i += 1\n",
    "                if i != j:  # Avoid unnecessary swaps\n",
    "                    self.swaps += 1\n",
    "                    arr[i], arr[j] = arr[j], arr[i]\n",
    "\n",
    "        self.swaps += 1\n",
    "        arr[i + 1], arr[high] = arr[high], arr[i + 1]\n",
    "        return i + 1\n",
    "\n",
    "    def pivot_selector(self, arr, low, high):\n",
    "        if self.pivot_type == \"last\":\n",
    "            return high\n",
    "        elif self.pivot_type == \"random\":\n",
    "            return random.randint(low, high)\n",
    "        elif self.pivot_type == \"median_of_three\":\n",
    "            return self.median_of_three(arr, low, high)\n",
    "        elif self.pivot_type == \"median_of_three_random\":\n",
    "            return self.median_of_three_random(arr, low, high)\n",
    "        else:\n",
    "            raise ValueError(f\"Invalid pivot type: {self.pivot_type}\")\n",
    "\n",
    "    def median_of_three(self, arr, low, high):\n",
    "        mid = (low + high) // 2\n",
    "        self.comparisons += 3\n",
    "        if arr[low] > arr[mid]:\n",
    "            low, mid = mid, low\n",
    "        if arr[low] > arr[high]:\n",
    "            low, high = high, low\n",
    "        if arr[mid] > arr[high]:\n",
    "            mid, high = high, mid\n",
    "        return mid\n",
    "\n",
    "    def median_of_three_random(self, arr, low, high):\n",
    "        range_size = high - low + 1\n",
    "        if range_size < 3:\n",
    "            return high\n",
    "        indices = random.sample(range(low, high + 1), 3)\n",
    "        a, b, c = indices[0], indices[1], indices[2]\n",
    "\n",
    "        self.comparisons += 3\n",
    "        if arr[b] < arr[a]:\n",
    "            self.swaps += 1\n",
    "            a, b = b, a\n",
    "        if arr[c] < arr[a]:\n",
    "            self.swaps += 1\n",
    "            a, c = c, a\n",
    "\n",
    "        if arr[c] < arr[b]:\n",
    "            self.swaps += 1\n",
    "            b, c = c, b\n",
    "        return b "
   ]
  },
  {
   "cell_type": "code",
   "execution_count": 8,
   "metadata": {},
   "outputs": [],
   "source": [
    "def identical(size, value = 1):\n",
    "        return [value] * size\n",
    "\n",
    "def sorted_data(size):\n",
    "    return list(range(size))\n",
    "\n",
    "def random_data(size, low=0, high=1000):\n",
    "    return [random.randint(low, high) for _ in range(size)]\n",
    "\n",
    "def almost_sorted(size, swap_percentage=5):\n",
    "    arr = list(range(size))\n",
    "    swaps = max(1, (swap_percentage * size) // 100)\n",
    "    print(swaps)\n",
    "    for _ in range(swaps):\n",
    "        i, j = random.sample(range(size), 2)\n",
    "        arr[i], arr[j] = arr[j], arr[i]\n",
    "    return arr\n",
    "\n",
    "def reverse_order(size):\n",
    "    return list(range(size, 0, -1))\n",
    "\n",
    "def triangular(size):\n",
    "    half = size // 2\n",
    "    first_half = list(range(half))\n",
    "    second_half = first_half[::-1]\n",
    "    return first_half + second_half"
   ]
  },
  {
   "cell_type": "code",
   "execution_count": 12,
   "metadata": {},
   "outputs": [
    {
     "data": {
      "text/plain": [
       "36.097614765167236"
      ]
     },
     "execution_count": 12,
     "metadata": {},
     "output_type": "execute_result"
    }
   ],
   "source": [
    "data = random_data(1000000)\n",
    "qs = QuickSortLomuto(pivot_type=\"random\")\n",
    "qs.qsort(data)\n",
    "assert data == sorted(data), f\"Ошибка: массив отсортирован неправильно! Результат: {data}\"\n",
    "qs.exec_time"
   ]
  },
  {
   "cell_type": "code",
   "execution_count": 10,
   "metadata": {},
   "outputs": [],
   "source": [
    "qs.qsort(data)"
   ]
  },
  {
   "cell_type": "code",
   "execution_count": 11,
   "metadata": {},
   "outputs": [
    {
     "data": {
      "text/plain": [
       "0.035959720611572266"
      ]
     },
     "execution_count": 11,
     "metadata": {},
     "output_type": "execute_result"
    }
   ],
   "source": [
    "qs.exec_time"
   ]
  },
  {
   "cell_type": "code",
   "execution_count": 13,
   "metadata": {},
   "outputs": [
    {
     "data": {
      "text/plain": [
       "1000000"
      ]
     },
     "execution_count": 13,
     "metadata": {},
     "output_type": "execute_result"
    }
   ],
   "source": [
    "10**6"
   ]
  },
  {
   "cell_type": "code",
   "execution_count": null,
   "metadata": {},
   "outputs": [],
   "source": []
  }
 ],
 "metadata": {
  "kernelspec": {
   "display_name": "thirdcourse2",
   "language": "python",
   "name": "python3"
  },
  "language_info": {
   "codemirror_mode": {
    "name": "ipython",
    "version": 3
   },
   "file_extension": ".py",
   "mimetype": "text/x-python",
   "name": "python",
   "nbconvert_exporter": "python",
   "pygments_lexer": "ipython3",
   "version": "3.13.0"
  }
 },
 "nbformat": 4,
 "nbformat_minor": 2
}
