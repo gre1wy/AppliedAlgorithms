{
 "cells": [
  {
   "cell_type": "markdown",
   "metadata": {},
   "source": [
    "schemes of partition: \n",
    "1. lomuto\n",
    "2. hoare \n",
    "3. dijkstra (tripartite)\n"
   ]
  },
  {
   "cell_type": "markdown",
   "metadata": {},
   "source": [
    "pivot element: \n",
    "1. last \n",
    "2. random \n",
    "3. median (last first middle)\n",
    "4. median of 3 random elements\n",
    "5. double pivot\n"
   ]
  },
  {
   "cell_type": "markdown",
   "metadata": {},
   "source": [
    "metrics: \n",
    "1. exec_time \n",
    "2. comparisons \n",
    "3. swaps\n",
    "4. memory_used\n"
   ]
  },
  {
   "cell_type": "markdown",
   "metadata": {},
   "source": [
    "data: \n",
    "1. identical elements,\n",
    "2. completely sorted,\n",
    "3. random,\n",
    "4. almost sorted,\n",
    "5. reverse order, \n",
    "6. \"triangular\" (the first half is strictly ascending sequence, and the second half is a mirror image of the first), \n",
    "7. several different"
   ]
  },
  {
   "cell_type": "code",
   "execution_count": 194,
   "metadata": {},
   "outputs": [],
   "source": [
    "import random\n",
    "import time\n",
    "import sys\n"
   ]
  },
  {
   "cell_type": "code",
   "execution_count": 195,
   "metadata": {},
   "outputs": [],
   "source": [
    "class Metrics:\n",
    "    def __init__(self):\n",
    "        self.comparisons = 0\n",
    "        self.swaps = 0\n",
    "        self.memory_used = 0\n",
    "        self.exec_time = 0\n",
    "\n",
    "    def start_timer(self):\n",
    "        self.start_time = time.time()\n",
    "\n",
    "    def stop_timer(self):\n",
    "        self.exec_time = time.time() - self.start_time\n",
    "        \n",
    "    def __str__(self):\n",
    "        return f\"Comparisons: {self.comparisons}, Swaps: {self.swaps}, Memory: {self.memory_used}, Time: {self.exec_time:.6f} sec\"\n"
   ]
  },
  {
   "cell_type": "code",
   "execution_count": 196,
   "metadata": {},
   "outputs": [],
   "source": [
    "class PartitionScheme:\n",
    "    def lomuto(self, arr, low, high, pivot, metrics):\n",
    "        i = low - 1\n",
    "        for j in range(low, high):\n",
    "            metrics.comparisons += 1\n",
    "            if arr[j] <= pivot:\n",
    "                i += 1\n",
    "                metrics.comparisons += 1\n",
    "                if i != j:\n",
    "                    metrics.swaps += 1\n",
    "                    arr[i], arr[j] = arr[j], arr[i]\n",
    "        metrics.swaps += 1\n",
    "        arr[i + 1], arr[high] = arr[high], arr[i + 1]\n",
    "        return i + 1\n",
    "\n",
    "    def hoare(self, arr, low, high, pivot, metrics):\n",
    "        i, j = low, high\n",
    "        while True:\n",
    "            while arr[i] < pivot:\n",
    "                metrics.comparisons += 1\n",
    "                i += 1\n",
    "            metrics.comparisons += 1\n",
    "            while arr[j] > pivot:\n",
    "                metrics.comparisons += 1\n",
    "                j -= 1\n",
    "            metrics.comparisons += 1\n",
    "\n",
    "            metrics.comparisons += 1\n",
    "            if i >= j:\n",
    "                return j\n",
    "            \n",
    "            metrics.swaps += 1\n",
    "            arr[i], arr[j] = arr[j], arr[i]\n",
    "            i += 1\n",
    "            j -= 1"
   ]
  },
  {
   "cell_type": "code",
   "execution_count": 197,
   "metadata": {},
   "outputs": [],
   "source": [
    "class PivotSelector:\n",
    "    def last(self, arr, low, high, metrics):\n",
    "        return arr[high]\n",
    "\n",
    "    def random(self, arr, low, high, metrics):\n",
    "        return arr[random.randint(low, high)]\n",
    "\n",
    "    def median_of_three(self, arr, low, high, metrics):\n",
    "        mid = (low + high) // 2\n",
    "        metrics.comparisons += 1\n",
    "        if arr[mid] < arr[low]:\n",
    "            metrics.swaps += 1\n",
    "            arr[mid], arr[low] = arr[low], arr[mid]\n",
    "        metrics.comparisons += 1\n",
    "        if arr[high] > arr[low]:\n",
    "            metrics.swaps += 1\n",
    "            arr[high], arr[low] = arr[low], arr[high]\n",
    "        metrics.comparisons += 1\n",
    "        if arr[high] < arr[mid]:\n",
    "            metrics.swaps += 1\n",
    "            arr[high], arr[mid] = arr[mid], arr[high]\n",
    "        return arr[mid]\n",
    "\n",
    "    def median_of_three_random(self, arr, low, high, metrics):\n",
    "        indices = random.sample(range(low, high + 1), 3)\n",
    "        a, b, c = indices[0], indices[1], indices[2]\n",
    "\n",
    "        metrics.comparisons += 1\n",
    "        if arr[b] < arr[a]:\n",
    "            metrics.swaps += 1\n",
    "            arr[a], arr[b] = arr[b], arr[a]\n",
    "        metrics.comparisons += 1\n",
    "        if arr[c] < arr[a]:\n",
    "            metrics.swaps += 1\n",
    "            arr[a], arr[c] = arr[c], arr[a]\n",
    "        metrics.comparisons += 1\n",
    "        if arr[c] < arr[b]:\n",
    "            metrics.swaps += 1\n",
    "            arr[b], arr[c] = arr[c], arr[b]\n",
    "\n",
    "        return arr[b]"
   ]
  },
  {
   "cell_type": "code",
   "execution_count": 198,
   "metadata": {},
   "outputs": [],
   "source": [
    "class DataGenerator:\n",
    "    def identical(self, size, value = 1):\n",
    "        return [value] * size\n",
    "\n",
    "    def sorted(self, size):\n",
    "        return list(range(size))\n",
    "\n",
    "    def random(self, size, low=0, high=1000):\n",
    "        return [random.randint(low, high) for _ in range(size)]\n",
    "\n",
    "    def almost_sorted(self, size, swap_percentage=5):\n",
    "        arr = list(range(size))\n",
    "        swaps = max(1, (swap_percentage * size) // 100)\n",
    "        print(swaps)\n",
    "        for _ in range(swaps):\n",
    "            i, j = random.sample(range(size), 2)\n",
    "            arr[i], arr[j] = arr[j], arr[i]\n",
    "        return arr\n",
    "\n",
    "    def reverse_order(self, size):\n",
    "        return list(range(size, 0, -1))\n",
    "\n",
    "    def triangular(self, size):\n",
    "        half = size // 2\n",
    "        first_half = list(range(half))\n",
    "        second_half = first_half[::-1]\n",
    "        return first_half + second_half"
   ]
  },
  {
   "cell_type": "code",
   "execution_count": null,
   "metadata": {},
   "outputs": [],
   "source": [
    "\n",
    "class SortRunner:\n",
    "    def __init__(self):\n",
    "        self.partition = PartitionScheme()\n",
    "        self.pivot_selector = PivotSelector()\n",
    "        self.metrics = Metrics()\n",
    "        self.data_gen = DataGenerator()\n",
    "\n",
    "    def quicksort(self, arr, low, high, partition_method, pivot_method, metrics):\n",
    "        if low < high:\n",
    "            pivot = pivot_method(arr, low, high, metrics)\n",
    "            partition_point = partition_method(arr, low, high, pivot, metrics)\n",
    "            self.quicksort(arr, low, partition_point - 1, partition_method, pivot_method, metrics)\n",
    "            self.quicksort(arr, partition_point + 1, high, partition_method, pivot_method, metrics)\n",
    "            \n",
    "    def run(self, data_type, size, partition_method, pivot_method):\n",
    "        data = data_type(size)\n",
    "        self.metrics.start_timer()\n",
    "        self.quicksort(data, 0, len(data) - 1, partition_method, pivot_method, self.metrics)\n",
    "        self.metrics.stop_timer()\n",
    "        return data, self.metrics\n"
   ]
  },
  {
   "cell_type": "code",
   "execution_count": null,
   "metadata": {},
   "outputs": [
    {
     "ename": "AssertionError",
     "evalue": "Ошибка: массив отсортирован неправильно! Результат: [49, 174, 83, 209, 345, 404, 582, 471, 748, 756]",
     "output_type": "error",
     "traceback": [
      "\u001b[1;31m---------------------------------------------------------------------------\u001b[0m",
      "\u001b[1;31mAssertionError\u001b[0m                            Traceback (most recent call last)",
      "Cell \u001b[1;32mIn[202], line 10\u001b[0m\n\u001b[0;32m      2\u001b[0m data, metrics \u001b[38;5;241m=\u001b[39m runner\u001b[38;5;241m.\u001b[39mrun(\n\u001b[0;32m      3\u001b[0m     data_type\u001b[38;5;241m=\u001b[39mrunner\u001b[38;5;241m.\u001b[39mdata_gen\u001b[38;5;241m.\u001b[39mrandom,  \n\u001b[0;32m      4\u001b[0m     size \u001b[38;5;241m=\u001b[39m \u001b[38;5;241m10\u001b[39m,\n\u001b[0;32m      5\u001b[0m     partition_method \u001b[38;5;241m=\u001b[39m runner\u001b[38;5;241m.\u001b[39mpartition\u001b[38;5;241m.\u001b[39mlomuto,\n\u001b[0;32m      6\u001b[0m     pivot_method \u001b[38;5;241m=\u001b[39m runner\u001b[38;5;241m.\u001b[39mpivot_selector\u001b[38;5;241m.\u001b[39mrandom\n\u001b[0;32m      7\u001b[0m )\n\u001b[0;32m      9\u001b[0m \u001b[38;5;66;03m# Проверяем результат сортировки\u001b[39;00m\n\u001b[1;32m---> 10\u001b[0m \u001b[38;5;28;01massert\u001b[39;00m data \u001b[38;5;241m==\u001b[39m \u001b[38;5;28msorted\u001b[39m(data), \u001b[38;5;124mf\u001b[39m\u001b[38;5;124m\"\u001b[39m\u001b[38;5;124mОшибка: массив отсортирован неправильно! Результат: \u001b[39m\u001b[38;5;132;01m{\u001b[39;00mdata\u001b[38;5;132;01m}\u001b[39;00m\u001b[38;5;124m\"\u001b[39m\n\u001b[0;32m     12\u001b[0m \u001b[38;5;28mprint\u001b[39m(\u001b[38;5;124m\"\u001b[39m\u001b[38;5;124mОтсортированные данные:\u001b[39m\u001b[38;5;124m\"\u001b[39m, data)\n\u001b[0;32m     13\u001b[0m \u001b[38;5;28mprint\u001b[39m(\u001b[38;5;124m\"\u001b[39m\u001b[38;5;124mМетрики:\u001b[39m\u001b[38;5;124m\"\u001b[39m, metrics)\n",
      "\u001b[1;31mAssertionError\u001b[0m: Ошибка: массив отсортирован неправильно! Результат: [49, 174, 83, 209, 345, 404, 582, 471, 748, 756]"
     ]
    }
   ],
   "source": [
    "runner = SortRunner()\n",
    "data, metrics = runner.run(\n",
    "    data_type=runner.data_gen.random,  \n",
    "    size = 10,\n",
    "    partition_method = runner.partition.lomuto,\n",
    "    pivot_method = runner.pivot_selector.random\n",
    ")\n",
    "\n",
    "# Проверяем результат сортировки\n",
    "assert data == sorted(data), f\"Ошибка: массив отсортирован неправильно! Результат: {data}\"\n",
    "\n",
    "print(\"Отсортированные данные:\", data)\n",
    "print(\"Метрики:\", metrics)"
   ]
  },
  {
   "cell_type": "markdown",
   "metadata": {},
   "source": []
  },
  {
   "cell_type": "code",
   "execution_count": null,
   "metadata": {},
   "outputs": [],
   "source": []
  }
 ],
 "metadata": {
  "kernelspec": {
   "display_name": "thirdcourse2",
   "language": "python",
   "name": "python3"
  },
  "language_info": {
   "codemirror_mode": {
    "name": "ipython",
    "version": 3
   },
   "file_extension": ".py",
   "mimetype": "text/x-python",
   "name": "python",
   "nbconvert_exporter": "python",
   "pygments_lexer": "ipython3",
   "version": "3.13.0"
  }
 },
 "nbformat": 4,
 "nbformat_minor": 2
}
