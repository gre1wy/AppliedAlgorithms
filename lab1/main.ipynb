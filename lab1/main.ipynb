{
 "cells": [
  {
   "cell_type": "markdown",
   "metadata": {},
   "source": [
    "# Лабораторна №1"
   ]
  },
  {
   "cell_type": "markdown",
   "metadata": {},
   "source": [
    "## Завдання "
   ]
  },
  {
   "cell_type": "markdown",
   "metadata": {},
   "source": [
    "Реалізувати тип \"множина\" "
   ]
  },
  {
   "cell_type": "markdown",
   "metadata": {},
   "source": [
    "Реалізувати базові операції:<br>\n",
    "- Insert [+]\n",
    "- Delete [+]\n",
    "- Search [+]\n",
    "- Clear [+]\n"
   ]
  },
  {
   "cell_type": "markdown",
   "metadata": {},
   "source": [
    "Реалізувати додаткові операції:<br>\n",
    "- Union [+]\n",
    "- Intersection [+]\n",
    "- SetDifference [+]\n",
    "- SymDifference [+]\n",
    "- isSubset [+]\n"
   ]
  },
  {
   "cell_type": "markdown",
   "metadata": {},
   "source": [
    "Провести експериментальні заміри часу операцій \n",
    "- Search\n",
    "- Union"
   ]
  },
  {
   "cell_type": "markdown",
   "metadata": {},
   "source": [
    "## Код"
   ]
  },
  {
   "cell_type": "code",
   "execution_count": 42,
   "metadata": {},
   "outputs": [],
   "source": [
    "class BitVectorSet:\n",
    "    def __init__(self, t):\n",
    "        \"\"\"Ініціалізує множину з t 64-бітних регістрів (універсум з 64t елементів).\"\"\"\n",
    "        self.t = t \n",
    "        self.vector = [0] * t\n",
    "\n",
    "    def _get_index(self, element):\n",
    "        \"\"\"Повертає індекс регістра та позицію біта в цьому регстрі\"\"\"\n",
    "        register_index = element >> 6 # Індекс 64-бітного регістра math.log2(64)\n",
    "        bit_position = element & (64-1) # Позиція біта в регістрі\n",
    "        return register_index, bit_position\n",
    "    \n",
    "    def have(self, element):\n",
    "        \"\"\"Перевіряє чи існує елемент в множині\"\"\"\n",
    "        reg_index, b_position = self._get_index(element)\n",
    "        return self.vector[reg_index] & (1 << b_position) != 0\n",
    "        \n",
    "    def add(self, element):\n",
    "        \"\"\"Додає елемент в множину\"\"\"\n",
    "        reg_index, b_position = self._get_index(element)\n",
    "        self.vector[reg_index] |= 1 << b_position\n",
    "\n",
    "    def delete(self, element):\n",
    "        \"\"\"Видаляє елемент з множини\"\"\"\n",
    "        reg_index, b_position = self._get_index(element)\n",
    "        self.vector[reg_index] &= ~(1 << b_position)\n",
    "\n",
    "    def union(self, other):\n",
    "        \"\"\"Повертає обєднання двух множин\"\"\"\n",
    "        if self.t != other.t:\n",
    "            raise ValueError(\"Множини мають різні розміри\")\n",
    "        result = BitVectorSet(self.t)\n",
    "        result.vector = [self.vector[i] | other.vector[i] for i in range(self.t)]\n",
    "        return result\n",
    "    \n",
    "    def intersection(self, other):\n",
    "        \"\"\"Повертає перетин двух множин\"\"\"\n",
    "        if self.t != other.t:\n",
    "            raise ValueError(\"Множини мають різні розміри\")\n",
    "        result = BitVectorSet(self.t)\n",
    "        result.vector = [self.vector[i] & other.vector[i] for i in range(self.t)]\n",
    "        return result\n",
    "    \n",
    "    def diff(self, other):\n",
    "        \"\"\"Повертає різницю двух множин\"\"\"\n",
    "        result = BitVectorSet(self.t)\n",
    "        result.vector = [self.vector[i] & ~other.vector[i] for i in range(self.t)]\n",
    "        return result\n",
    "    \n",
    "    def sym_diff(self, other):\n",
    "        \"\"\"Повертає симетричну різницю: елементи, які є в одному з множин, але не в обох.\"\"\"\n",
    "        if self.t != other.t:\n",
    "            raise ValueError(\"Множини мають різні розміри\")\n",
    "        result = BitVectorSet(self.t)\n",
    "        result.vector = [self.vector[i] ^ other.vector[i] for i in range(self.t)]\n",
    "        return result\n",
    "    \n",
    "    def issubset(self, other):\n",
    "        \"\"\"Перевіряє, чи є поточна множина підмножиною іншої.\"\"\"\n",
    "        if self.t != other.t:\n",
    "            raise ValueError(\"Множини мають різні розміри\")\n",
    "        # Для кожного регістра перевіряємо, чи всі встановлені біти self є в other\n",
    "        for i in range(self.t):\n",
    "            if self.vector[i] & ~other.vector[i] != 0: \n",
    "                return False\n",
    "        return True\n",
    "    \n",
    "    def clear(self):\n",
    "        \"\"\"Очищає множину, встановлюючи всі біти в 0.\"\"\"\n",
    "        self.vector = [0] * self.t\n",
    "    \n",
    "    def __str__(self):\n",
    "        \"\"\"Повертає бітовий вектор як рядок для зручного перегляду.\"\"\"\n",
    "        return ''.join(f'{reg:064b}' for reg in reversed(self.vector))\n"
   ]
  },
  {
   "cell_type": "markdown",
   "metadata": {},
   "source": [
    "## Приклад роботи"
   ]
  },
  {
   "cell_type": "code",
   "execution_count": 43,
   "metadata": {},
   "outputs": [],
   "source": [
    "A = BitVectorSet(2)\n",
    "B = BitVectorSet(2)"
   ]
  },
  {
   "cell_type": "code",
   "execution_count": 44,
   "metadata": {},
   "outputs": [
    {
     "name": "stdout",
     "output_type": "stream",
     "text": [
      "00000000000000000000000000000000000000000000000000000000000000000000000000000000000000000000000000000000000000000000000000000000\n",
      "00000000000000000000000000000000000000000000000000000000000000000000000000000000000000000000000000000000000000000000000000000000\n"
     ]
    }
   ],
   "source": [
    "print(A)\n",
    "print(B)"
   ]
  },
  {
   "cell_type": "code",
   "execution_count": 45,
   "metadata": {},
   "outputs": [],
   "source": [
    "A.add(127)\n",
    "B.add(127)\n",
    "A.add(0)\n",
    "B.add(1)\n",
    "A.add(3)\n",
    "B.add(4)"
   ]
  },
  {
   "cell_type": "code",
   "execution_count": 46,
   "metadata": {},
   "outputs": [
    {
     "name": "stdout",
     "output_type": "stream",
     "text": [
      "10000000000000000000000000000000000000000000000000000000000000000000000000000000000000000000000000000000000000000000000000001001\n",
      "10000000000000000000000000000000000000000000000000000000000000000000000000000000000000000000000000000000000000000000000000010010\n"
     ]
    }
   ],
   "source": [
    "print(A)\n",
    "print(B)"
   ]
  },
  {
   "cell_type": "code",
   "execution_count": 48,
   "metadata": {},
   "outputs": [
    {
     "data": {
      "text/plain": [
       "(True, False)"
      ]
     },
     "execution_count": 48,
     "metadata": {},
     "output_type": "execute_result"
    }
   ],
   "source": [
    "A.have(127), B.have(0)"
   ]
  },
  {
   "cell_type": "code",
   "execution_count": 52,
   "metadata": {},
   "outputs": [],
   "source": [
    "A.delete(3)\n",
    "B.delete(4)"
   ]
  },
  {
   "cell_type": "code",
   "execution_count": 57,
   "metadata": {},
   "outputs": [
    {
     "name": "stdout",
     "output_type": "stream",
     "text": [
      "10000000000000000000000000000000000000000000000000000000000000000000000000000000000000000000000000000000000000000000000000000001\n",
      "10000000000000000000000000000000000000000000000000000000000000000000000000000000000000000000000000000000000000000000000000000010\n"
     ]
    }
   ],
   "source": [
    "print(A)\n",
    "print(B)"
   ]
  },
  {
   "cell_type": "code",
   "execution_count": 53,
   "metadata": {},
   "outputs": [
    {
     "name": "stdout",
     "output_type": "stream",
     "text": [
      "10000000000000000000000000000000000000000000000000000000000000000000000000000000000000000000000000000000000000000000000000000011\n"
     ]
    }
   ],
   "source": [
    "print(A.union(B))"
   ]
  },
  {
   "cell_type": "code",
   "execution_count": 54,
   "metadata": {},
   "outputs": [
    {
     "name": "stdout",
     "output_type": "stream",
     "text": [
      "10000000000000000000000000000000000000000000000000000000000000000000000000000000000000000000000000000000000000000000000000000000\n"
     ]
    }
   ],
   "source": [
    "print(A.intersection(B))"
   ]
  },
  {
   "cell_type": "code",
   "execution_count": 55,
   "metadata": {},
   "outputs": [
    {
     "name": "stdout",
     "output_type": "stream",
     "text": [
      "00000000000000000000000000000000000000000000000000000000000000000000000000000000000000000000000000000000000000000000000000000001\n"
     ]
    }
   ],
   "source": [
    "print(A.diff(B))"
   ]
  },
  {
   "cell_type": "code",
   "execution_count": 56,
   "metadata": {},
   "outputs": [
    {
     "name": "stdout",
     "output_type": "stream",
     "text": [
      "00000000000000000000000000000000000000000000000000000000000000000000000000000000000000000000000000000000000000000000000000000011\n"
     ]
    }
   ],
   "source": [
    "print(A.sym_diff(B))"
   ]
  },
  {
   "cell_type": "code",
   "execution_count": 58,
   "metadata": {},
   "outputs": [
    {
     "name": "stdout",
     "output_type": "stream",
     "text": [
      "False\n"
     ]
    }
   ],
   "source": [
    "print(A.issubset(B))"
   ]
  },
  {
   "cell_type": "code",
   "execution_count": 59,
   "metadata": {},
   "outputs": [],
   "source": [
    "A.clear()"
   ]
  },
  {
   "cell_type": "code",
   "execution_count": 60,
   "metadata": {},
   "outputs": [
    {
     "name": "stdout",
     "output_type": "stream",
     "text": [
      "00000000000000000000000000000000000000000000000000000000000000000000000000000000000000000000000000000000000000000000000000000000\n"
     ]
    }
   ],
   "source": [
    "print(A)"
   ]
  },
  {
   "cell_type": "markdown",
   "metadata": {},
   "source": [
    "## Заміри часу"
   ]
  },
  {
   "cell_type": "code",
   "execution_count": 74,
   "metadata": {},
   "outputs": [],
   "source": [
    "import random\n",
    "import time"
   ]
  },
  {
   "cell_type": "code",
   "execution_count": 116,
   "metadata": {},
   "outputs": [],
   "source": [
    "def genranset(t: int, shouldexist = \"dont_need\", shouldnotexist = \"dont_need\"):\n",
    "    \"\"\"Генерує випадкову множину.\n",
    "\n",
    "    t: розмір множини\n",
    "    shouldexist: елемент який точно повинен існувати\n",
    "    shouldntexist: елемент який точно не повинен існувати\n",
    "    \"\"\"\n",
    "    S = BitVectorSet(t)\n",
    "\n",
    "    for i in range(64 * t):  # Ітерація по всіх елементах універсуму\n",
    "        if random.choice([True, False]):  # Випадково вирішуємо, чи додавати елемент\n",
    "            S.add(i)\n",
    "\n",
    "    if type(shouldexist) == int and 0 <= shouldexist < 64 * t: \n",
    "        S.add(shouldexist) # Додаємо елемент який повинен існувати\n",
    "\n",
    "    if type(shouldnotexist) == int and 0 <= shouldnotexist < 64 * t:\n",
    "        S.delete(shouldnotexist) # Додаємо елемент який не повинен існувати\n",
    "        \n",
    "    return S"
   ]
  },
  {
   "cell_type": "code",
   "execution_count": 117,
   "metadata": {},
   "outputs": [],
   "source": [
    "def timeSearchElementExist(t):\n",
    "    \"\"\"Рахує час для перевірки існування елементу, який точно існує.\n",
    "    \n",
    "    t: розмір множини\n",
    "    \"\"\"\n",
    "    element = random.randint(0, 64 * t - 1)  # Генеруємо піддослідного кролика\n",
    "    ranset = genranset(t, shouldexist=element)  # Генеруємо множину з піддослідним кроликом\n",
    "    \n",
    "    start_time = time.time()  # Початок часу\n",
    "    ranset.have(element)  # Перевіряємо, чи існує елемент в множині\n",
    "    end_time = time.time()  # Кінець часу\n",
    "    \n",
    "    elapsed_time = end_time - start_time  # Різниця в часі (в секундах)\n",
    "    return elapsed_time\n"
   ]
  },
  {
   "cell_type": "code",
   "execution_count": 118,
   "metadata": {},
   "outputs": [],
   "source": [
    "def timeSearchElementNotExist(t):\n",
    "    \"\"\"Рахує час для перевірки існування елементу, який точно не існує.\n",
    "    \n",
    "    t: розмір множини\n",
    "    \"\"\"\n",
    "    element = random.randint(0, 64 * t - 1)  # Генеруємо піддослідного кролика\n",
    "    ranset = genranset(t, shouldnotexist=element)  # Генеруємо множину без піддослідного кролика\n",
    "    \n",
    "    start_time = time.time()  # Початок часу\n",
    "    ranset.have(element)  # Перевіряємо, чи існує елемент в множині\n",
    "    end_time = time.time()  # Кінець часу\n",
    "    \n",
    "    elapsed_time = end_time - start_time  # Різниця в часі (в секундах)\n",
    "    return elapsed_time"
   ]
  },
  {
   "cell_type": "code",
   "execution_count": 119,
   "metadata": {},
   "outputs": [],
   "source": [
    "def timeUnion(t):\n",
    "    \"\"\"Рахує час для обєднання двух множин.\n",
    "    \n",
    "    t: розмір множин\n",
    "    \"\"\"\n",
    "    ranset1 = genranset(t)\n",
    "    ranset2 = genranset(t)\n",
    "\n",
    "    start_time = time.time()  # Початок часу\n",
    "    ranset1.union(ranset2)  # Перевіряємо, чи існує елемент в множині\n",
    "    end_time = time.time()  # Кінець часу\n",
    "\n",
    "    elapsed_time = end_time - start_time  # Різниця в часі (в секундах)\n",
    "    return elapsed_time"
   ]
  },
  {
   "cell_type": "code",
   "execution_count": 120,
   "metadata": {},
   "outputs": [],
   "source": [
    "def timeControl(t, n, type):\n",
    "    \"\"\"Функція для контролю часу виконання операцій з множиною.\n",
    "    \n",
    "    t: розмір множини\n",
    "    n: кількість повторів\n",
    "    type: тип операції ('searchexist', 'searchnotexist', 'union')\n",
    "    \"\"\"\n",
    "    # Перевірка типу операції\n",
    "    if type not in ['searchexist', 'searchnotexist', 'union']:\n",
    "        raise ValueError(\"Тип повинен бути 'searchexist', 'searchnotexist' або 'union'\")\n",
    "    \n",
    "    sum_time = 0 \n",
    "    match type:\n",
    "        case 'searchexist':\n",
    "            for i in range(n):\n",
    "                i_time = timeSearchElementExist(t)\n",
    "                sum_time += i_time\n",
    "        case 'searchnotexist':\n",
    "            for i in range(n):\n",
    "                i_time = timeSearchElementNotExist(t)\n",
    "                sum_time += i_time\n",
    "        case 'union':\n",
    "            for i in range(n):\n",
    "                i_time = timeUnion(t)\n",
    "                sum_time += i_time\n",
    "    avg_time = sum_time/n\n",
    "    return avg_time\n"
   ]
  },
  {
   "cell_type": "code",
   "execution_count": 123,
   "metadata": {},
   "outputs": [
    {
     "data": {
      "text/plain": [
       "1.0673999786376954e-06"
      ]
     },
     "execution_count": 123,
     "metadata": {},
     "output_type": "execute_result"
    }
   ],
   "source": [
    "timeControl(1000, 1000, 'searchexist')"
   ]
  },
  {
   "cell_type": "code",
   "execution_count": 124,
   "metadata": {},
   "outputs": [
    {
     "data": {
      "text/plain": [
       "4.547357559204102e-06"
      ]
     },
     "execution_count": 124,
     "metadata": {},
     "output_type": "execute_result"
    }
   ],
   "source": [
    "timeControl(1000, 1000, 'searchnotexist')"
   ]
  },
  {
   "cell_type": "code",
   "execution_count": 105,
   "metadata": {},
   "outputs": [
    {
     "data": {
      "text/plain": [
       "0.00013441014289855956"
      ]
     },
     "execution_count": 105,
     "metadata": {},
     "output_type": "execute_result"
    }
   ],
   "source": [
    "timeControl(1000, 1000, 'union')"
   ]
  },
  {
   "cell_type": "code",
   "execution_count": null,
   "metadata": {},
   "outputs": [],
   "source": []
  }
 ],
 "metadata": {
  "kernelspec": {
   "display_name": "thirdcourse",
   "language": "python",
   "name": "python3"
  },
  "language_info": {
   "codemirror_mode": {
    "name": "ipython",
    "version": 3
   },
   "file_extension": ".py",
   "mimetype": "text/x-python",
   "name": "python",
   "nbconvert_exporter": "python",
   "pygments_lexer": "ipython3",
   "version": "3.11.8"
  }
 },
 "nbformat": 4,
 "nbformat_minor": 2
}
